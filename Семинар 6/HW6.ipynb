{
 "cells": [
  {
   "cell_type": "markdown",
   "metadata": {},
   "source": [
    "### Задача 1\n",
    "\n",
    "Продакт на главной mail.ru решил протестировать в рекомендательной ленте контента вместо карточек со статьями видеоплеер с короткими видео. Нынешний таймспент на юзера в день в среднем равен 25 минут, а стандартная ошибка (SD) равна 156. Мы предполагаем, что в новой версии таймспент на юзера в день изменится на 10%. Средний трафик 20000 человек в день. Посчитайте сколько дней необходимо держать эксперимент при alpha = 5% и beta = 20% "
   ]
  },
  {
   "cell_type": "markdown",
   "metadata": {},
   "source": [
    "Используем калькулятор для определения размера выборки для двух средних"
   ]
  },
  {
   "cell_type": "markdown",
   "metadata": {},
   "source": [
    "[https://statulator.com/SampleSize/ss2M.html](https://statulator.com/SampleSize/ss2M.html)"
   ]
  },
  {
   "cell_type": "markdown",
   "metadata": {},
   "source": [
    "![\"Расчет размера выборки\"](2023-10-15_19-41-43.png)"
   ]
  },
  {
   "cell_type": "code",
   "execution_count": 1,
   "metadata": {},
   "outputs": [
    {
     "name": "stdout",
     "output_type": "stream",
     "text": [
      "На проведение эксперимента необходимо 6 дней\n"
     ]
    }
   ],
   "source": [
    "group_size = 61_124*2\n",
    "daily_traffic = 20_000\n",
    "days_for_testing = round(group_size/daily_traffic)\n",
    "print(f\"На проведение эксперимента необходимо {days_for_testing} дней\")"
   ]
  },
  {
   "cell_type": "markdown",
   "metadata": {},
   "source": [
    "Попробуем решить эту задачу при помощи **python**"
   ]
  },
  {
   "cell_type": "code",
   "execution_count": 31,
   "metadata": {},
   "outputs": [
    {
     "name": "stdout",
     "output_type": "stream",
     "text": [
      "Необходимое количество дней: 6\n"
     ]
    }
   ],
   "source": [
    "import statsmodels.stats.api as sms\n",
    "import numpy as np\n",
    "\n",
    "# Параметры эксперимента\n",
    "initial_mean = 25\n",
    "sd = 156\n",
    "expected_change = 0.1\n",
    "daily_traffic = 20_000\n",
    "alpha = 0.05\n",
    "beta = 0.2  # Мощность 1 - beta = 0.8\n",
    "\n",
    "# Рассчитаем необходимый размер выборки\n",
    "effect_size = (expected_change*initial_mean)/sd\n",
    "nobs1 = sms.NormalIndPower().solve_power(effect_size=effect_size, alpha=alpha, power=1-beta, ratio=1.0)\n",
    "sample_size = nobs1*2\n",
    "\n",
    "# Рассчитаем количество дней\n",
    "required_number_of_days = round(sample_size/daily_traffic)\n",
    "print(\"Необходимое количество дней:\", required_number_of_days)"
   ]
  },
  {
   "cell_type": "markdown",
   "metadata": {},
   "source": [
    "### Задача 2\n",
    "\n",
    "Наша продуктовая команда в ecommerce магазине планирует запустить тест, направленный на ускорение загрузки сайта. Одна из основных метрик bounce rate в GA = 40%. Мы предполагаем, что при оптимизации сайта она изменится минимум на 20%.Средний трафик 4000 человек в день. Посчитайте сколько нам нужно дней держать эксперимент при alpha = 5% и beta = 20%"
   ]
  },
  {
   "cell_type": "markdown",
   "metadata": {},
   "source": [
    "Используем калькулятор для долей\n",
    "\n",
    "[https://www.evanmiller.org/ab-testing/sample-size.html](https://www.evanmiller.org/ab-testing/sample-size.html)\n",
    "\n",
    "![\"Расчет выборки\"](2023-10-15_21-10-05.png)\n"
   ]
  },
  {
   "cell_type": "code",
   "execution_count": 40,
   "metadata": {},
   "outputs": [
    {
     "name": "stdout",
     "output_type": "stream",
     "text": [
      "На проведение эксперимента необходимо 1 дней\n"
     ]
    }
   ],
   "source": [
    "import math\n",
    "sample_size = 592*2\n",
    "daily_traffic = 4_000\n",
    "days_for_testing = math.ceil(sample_size/daily_traffic)\n",
    "print(f\"На проведение эксперимента необходимо {days_for_testing} дней\")"
   ]
  },
  {
   "cell_type": "markdown",
   "metadata": {},
   "source": [
    "Попробуем решить при помощи **python**\n",
    "\n",
    "Используем формулу $n = \\frac{{(z_\\alpha \\sqrt{2p0(1-p0)} + z_\\beta \\sqrt{p0(1-p0) + p1(1-p1)})^2}}{{(p1 - p0)^2}}$"
   ]
  },
  {
   "cell_type": "code",
   "execution_count": 41,
   "metadata": {},
   "outputs": [
    {
     "name": "stdout",
     "output_type": "stream",
     "text": [
      "Размер выборки 580.344446892162\n",
      "Необходимое количество дней: 1\n"
     ]
    }
   ],
   "source": [
    "import scipy.stats as stats\n",
    "\n",
    "# Параметры эксперимента\n",
    "initial_bounce_rate = 0.4\n",
    "expected_change = 0.2\n",
    "daily_traffic = 4000\n",
    "alpha = 0.05\n",
    "beta = 0.2  # Мощность 1 - beta = 0.8\n",
    "\n",
    "# Рассчитаем необходимый размер выборки\n",
    "z_alpha = stats.norm.ppf(1 - alpha/2)  # Критическое значение для alpha/2\n",
    "z_beta = stats.norm.ppf(1 - beta)  # Критическое значение для beta\n",
    "\n",
    "p0 = initial_bounce_rate\n",
    "p1 = initial_bounce_rate * (1 - expected_change)\n",
    "\n",
    "n = ((z_alpha * np.sqrt(2 * p0 * (1 - p0)) + z_beta * np.sqrt(p0 * (1 - p0) + p1 * (1 - p1)))**2) / (p1 - p0)**2\n",
    "print(\"Размер выборки\", n)\n",
    "\n",
    "# Рассчитаем количество дней\n",
    "required_sample_size_per_day = n / daily_traffic\n",
    "required_number_of_days = math.ceil(required_sample_size_per_day)\n",
    "print(\"Необходимое количество дней:\", required_number_of_days)"
   ]
  }
 ],
 "metadata": {
  "kernelspec": {
   "display_name": "base",
   "language": "python",
   "name": "python3"
  },
  "language_info": {
   "codemirror_mode": {
    "name": "ipython",
    "version": 3
   },
   "file_extension": ".py",
   "mimetype": "text/x-python",
   "name": "python",
   "nbconvert_exporter": "python",
   "pygments_lexer": "ipython3",
   "version": "3.10.13"
  }
 },
 "nbformat": 4,
 "nbformat_minor": 2
}
