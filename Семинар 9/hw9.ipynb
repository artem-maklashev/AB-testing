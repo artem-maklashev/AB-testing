{
 "cells": [
  {
   "cell_type": "code",
   "execution_count": null,
   "metadata": {},
   "outputs": [],
   "source": []
  },
  {
   "cell_type": "code",
   "execution_count": 3,
   "metadata": {},
   "outputs": [
    {
     "ename": "ModuleNotFoundError",
     "evalue": "No module named 'bootstrapped'",
     "output_type": "error",
     "traceback": [
      "\u001b[0;31m---------------------------------------------------------------------------\u001b[0m",
      "\u001b[0;31mModuleNotFoundError\u001b[0m                       Traceback (most recent call last)",
      "\u001b[1;32m/home/artem-maklashev/Yandex.Disk/АБ тестирование/Семинар 5/Семинар 9/hw9.ipynb Ячейка 1\u001b[0m line \u001b[0;36m6\n\u001b[1;32m      <a href='vscode-notebook-cell:/home/artem-maklashev/Yandex.Disk/%D0%90%D0%91%20%D1%82%D0%B5%D1%81%D1%82%D0%B8%D1%80%D0%BE%D0%B2%D0%B0%D0%BD%D0%B8%D0%B5/%D0%A1%D0%B5%D0%BC%D0%B8%D0%BD%D0%B0%D1%80%205/%D0%A1%D0%B5%D0%BC%D0%B8%D0%BD%D0%B0%D1%80%209/hw9.ipynb#W0sZmlsZQ%3D%3D?line=2'>3</a>\u001b[0m \u001b[39mimport\u001b[39;00m \u001b[39mmatplotlib\u001b[39;00m\u001b[39m.\u001b[39;00m\u001b[39mpyplot\u001b[39;00m \u001b[39mas\u001b[39;00m \u001b[39mplt\u001b[39;00m\n\u001b[1;32m      <a href='vscode-notebook-cell:/home/artem-maklashev/Yandex.Disk/%D0%90%D0%91%20%D1%82%D0%B5%D1%81%D1%82%D0%B8%D1%80%D0%BE%D0%B2%D0%B0%D0%BD%D0%B8%D0%B5/%D0%A1%D0%B5%D0%BC%D0%B8%D0%BD%D0%B0%D1%80%205/%D0%A1%D0%B5%D0%BC%D0%B8%D0%BD%D0%B0%D1%80%209/hw9.ipynb#W0sZmlsZQ%3D%3D?line=3'>4</a>\u001b[0m \u001b[39mimport\u001b[39;00m \u001b[39mmath\u001b[39;00m\n\u001b[0;32m----> <a href='vscode-notebook-cell:/home/artem-maklashev/Yandex.Disk/%D0%90%D0%91%20%D1%82%D0%B5%D1%81%D1%82%D0%B8%D1%80%D0%BE%D0%B2%D0%B0%D0%BD%D0%B8%D0%B5/%D0%A1%D0%B5%D0%BC%D0%B8%D0%BD%D0%B0%D1%80%205/%D0%A1%D0%B5%D0%BC%D0%B8%D0%BD%D0%B0%D1%80%209/hw9.ipynb#W0sZmlsZQ%3D%3D?line=5'>6</a>\u001b[0m \u001b[39mimport\u001b[39;00m \u001b[39mbootstrapped\u001b[39;00m\u001b[39m.\u001b[39;00m\u001b[39mbootstrap\u001b[39;00m \u001b[39mas\u001b[39;00m \u001b[39mbs\u001b[39;00m\n\u001b[1;32m      <a href='vscode-notebook-cell:/home/artem-maklashev/Yandex.Disk/%D0%90%D0%91%20%D1%82%D0%B5%D1%81%D1%82%D0%B8%D1%80%D0%BE%D0%B2%D0%B0%D0%BD%D0%B8%D0%B5/%D0%A1%D0%B5%D0%BC%D0%B8%D0%BD%D0%B0%D1%80%205/%D0%A1%D0%B5%D0%BC%D0%B8%D0%BD%D0%B0%D1%80%209/hw9.ipynb#W0sZmlsZQ%3D%3D?line=6'>7</a>\u001b[0m \u001b[39mimport\u001b[39;00m \u001b[39mbootstrapped\u001b[39;00m\u001b[39m.\u001b[39;00m\u001b[39mcompare_functions\u001b[39;00m \u001b[39mas\u001b[39;00m \u001b[39mbs_compare\u001b[39;00m\n\u001b[1;32m      <a href='vscode-notebook-cell:/home/artem-maklashev/Yandex.Disk/%D0%90%D0%91%20%D1%82%D0%B5%D1%81%D1%82%D0%B8%D1%80%D0%BE%D0%B2%D0%B0%D0%BD%D0%B8%D0%B5/%D0%A1%D0%B5%D0%BC%D0%B8%D0%BD%D0%B0%D1%80%205/%D0%A1%D0%B5%D0%BC%D0%B8%D0%BD%D0%B0%D1%80%209/hw9.ipynb#W0sZmlsZQ%3D%3D?line=7'>8</a>\u001b[0m \u001b[39mimport\u001b[39;00m \u001b[39mbootstrapped\u001b[39;00m\u001b[39m.\u001b[39;00m\u001b[39mstats_functions\u001b[39;00m \u001b[39mas\u001b[39;00m \u001b[39mbs_stats\u001b[39;00m\n",
      "\u001b[0;31mModuleNotFoundError\u001b[0m: No module named 'bootstrapped'"
     ]
    }
   ],
   "source": [
    "import pandas as pd\n",
    "import seaborn as sns\n",
    "import matplotlib.pyplot as plt\n",
    "import math\n",
    "\n",
    "import bootstrapped.bootstrap as bs\n",
    "import bootstrapped.compare_functions as bs_compare\n",
    "import bootstrapped.stats_functions as bs_stats\n",
    "from scipy.stats import chi2_contingency\n",
    "from statsmodels.stats import power as smp"
   ]
  },
  {
   "cell_type": "code",
   "execution_count": 349,
   "metadata": {},
   "outputs": [],
   "source": [
    "sns.set_style('darkgrid')"
   ]
  },
  {
   "cell_type": "code",
   "execution_count": 350,
   "metadata": {},
   "outputs": [
    {
     "data": {
      "text/html": [
       "<div>\n",
       "<style scoped>\n",
       "    .dataframe tbody tr th:only-of-type {\n",
       "        vertical-align: middle;\n",
       "    }\n",
       "\n",
       "    .dataframe tbody tr th {\n",
       "        vertical-align: top;\n",
       "    }\n",
       "\n",
       "    .dataframe thead th {\n",
       "        text-align: right;\n",
       "    }\n",
       "</style>\n",
       "<table border=\"1\" class=\"dataframe\">\n",
       "  <thead>\n",
       "    <tr style=\"text-align: right;\">\n",
       "      <th></th>\n",
       "      <th>userid</th>\n",
       "      <th>version</th>\n",
       "      <th>sum_gamerounds</th>\n",
       "      <th>retention_1</th>\n",
       "      <th>retention_7</th>\n",
       "    </tr>\n",
       "  </thead>\n",
       "  <tbody>\n",
       "    <tr>\n",
       "      <th>0</th>\n",
       "      <td>116</td>\n",
       "      <td>gate_30</td>\n",
       "      <td>3</td>\n",
       "      <td>0</td>\n",
       "      <td>0</td>\n",
       "    </tr>\n",
       "    <tr>\n",
       "      <th>1</th>\n",
       "      <td>337</td>\n",
       "      <td>gate_30</td>\n",
       "      <td>38</td>\n",
       "      <td>1</td>\n",
       "      <td>0</td>\n",
       "    </tr>\n",
       "    <tr>\n",
       "      <th>2</th>\n",
       "      <td>377</td>\n",
       "      <td>gate_40</td>\n",
       "      <td>165</td>\n",
       "      <td>1</td>\n",
       "      <td>0</td>\n",
       "    </tr>\n",
       "    <tr>\n",
       "      <th>3</th>\n",
       "      <td>483</td>\n",
       "      <td>gate_40</td>\n",
       "      <td>1</td>\n",
       "      <td>0</td>\n",
       "      <td>0</td>\n",
       "    </tr>\n",
       "    <tr>\n",
       "      <th>4</th>\n",
       "      <td>488</td>\n",
       "      <td>gate_40</td>\n",
       "      <td>179</td>\n",
       "      <td>1</td>\n",
       "      <td>1</td>\n",
       "    </tr>\n",
       "  </tbody>\n",
       "</table>\n",
       "</div>"
      ],
      "text/plain": [
       "   userid  version  sum_gamerounds  retention_1  retention_7\n",
       "0     116  gate_30               3            0            0\n",
       "1     337  gate_30              38            1            0\n",
       "2     377  gate_40             165            1            0\n",
       "3     483  gate_40               1            0            0\n",
       "4     488  gate_40             179            1            1"
      ]
     },
     "execution_count": 350,
     "metadata": {},
     "output_type": "execute_result"
    }
   ],
   "source": [
    "df = pd.read_csv('результаты А_B - cookie_cats 2.csv')\n",
    "df.head()"
   ]
  },
  {
   "cell_type": "code",
   "execution_count": 351,
   "metadata": {},
   "outputs": [
    {
     "name": "stdout",
     "output_type": "stream",
     "text": [
      "<class 'pandas.core.frame.DataFrame'>\n",
      "RangeIndex: 90189 entries, 0 to 90188\n",
      "Data columns (total 5 columns):\n",
      " #   Column          Non-Null Count  Dtype \n",
      "---  ------          --------------  ----- \n",
      " 0   userid          90189 non-null  int64 \n",
      " 1   version         90189 non-null  object\n",
      " 2   sum_gamerounds  90189 non-null  int64 \n",
      " 3   retention_1     90189 non-null  int64 \n",
      " 4   retention_7     90189 non-null  int64 \n",
      "dtypes: int64(4), object(1)\n",
      "memory usage: 3.4+ MB\n"
     ]
    }
   ],
   "source": [
    "df.info()"
   ]
  },
  {
   "cell_type": "code",
   "execution_count": 352,
   "metadata": {},
   "outputs": [
    {
     "data": {
      "text/plain": [
       "['gate_30', 'gate_40']"
      ]
     },
     "execution_count": 352,
     "metadata": {},
     "output_type": "execute_result"
    }
   ],
   "source": [
    "version = df['version'].unique()\n",
    "sorted(version)"
   ]
  },
  {
   "cell_type": "code",
   "execution_count": 353,
   "metadata": {},
   "outputs": [
    {
     "data": {
      "image/png": "[encoded data removed]",
      "text/plain": [
       "<Figure size 640x480 with 1 Axes>"
      ]
     },
     "metadata": {},
     "output_type": "display_data"
    }
   ],
   "source": [
    "sns.boxplot(data = df, x = df['sum_gamerounds'], y = df['version']);"
   ]
  },
  {
   "cell_type": "code",
   "execution_count": 354,
   "metadata": {},
   "outputs": [
    {
     "data": {
      "text/html": [
       "<div>\n",
       "<style scoped>\n",
       "    .dataframe tbody tr th:only-of-type {\n",
       "        vertical-align: middle;\n",
       "    }\n",
       "\n",
       "    .dataframe tbody tr th {\n",
       "        vertical-align: top;\n",
       "    }\n",
       "\n",
       "    .dataframe thead th {\n",
       "        text-align: right;\n",
       "    }\n",
       "</style>\n",
       "<table border=\"1\" class=\"dataframe\">\n",
       "  <thead>\n",
       "    <tr style=\"text-align: right;\">\n",
       "      <th></th>\n",
       "      <th>userid</th>\n",
       "    </tr>\n",
       "    <tr>\n",
       "      <th>version</th>\n",
       "      <th></th>\n",
       "    </tr>\n",
       "  </thead>\n",
       "  <tbody>\n",
       "    <tr>\n",
       "      <th>gate_30</th>\n",
       "      <td>44700</td>\n",
       "    </tr>\n",
       "    <tr>\n",
       "      <th>gate_40</th>\n",
       "      <td>45489</td>\n",
       "    </tr>\n",
       "  </tbody>\n",
       "</table>\n",
       "</div>"
      ],
      "text/plain": [
       "         userid\n",
       "version        \n",
       "gate_30   44700\n",
       "gate_40   45489"
      ]
     },
     "execution_count": 354,
     "metadata": {},
     "output_type": "execute_result"
    }
   ],
   "source": [
    "df.groupby(\"version\")[[\"userid\"]].nunique()"
   ]
  },
  {
   "cell_type": "code",
   "execution_count": 355,
   "metadata": {},
   "outputs": [
    {
     "data": {
      "text/plain": [
       "count    90189.000000\n",
       "mean        51.872457\n",
       "std        195.050858\n",
       "min          0.000000\n",
       "25%          5.000000\n",
       "50%         16.000000\n",
       "75%         51.000000\n",
       "max      49854.000000\n",
       "Name: sum_gamerounds, dtype: float64"
      ]
     },
     "execution_count": 355,
     "metadata": {},
     "output_type": "execute_result"
    }
   ],
   "source": [
    "df['sum_gamerounds'].describe()"
   ]
  },
  {
   "cell_type": "code",
   "execution_count": 356,
   "metadata": {},
   "outputs": [],
   "source": [
    "# Значителные выбросы свидетельствуют скорее всего о наличии ботов в игре\n",
    "# Очистим от выбросов\n",
    "df_clear = df[df['sum_gamerounds'] < df['sum_gamerounds'].quantile(0.75)]"
   ]
  },
  {
   "cell_type": "code",
   "execution_count": 357,
   "metadata": {},
   "outputs": [
    {
     "data": {
      "image/png": "[encoded data removed]",
      "text/plain": [
       "<Figure size 640x480 with 1 Axes>"
      ]
     },
     "metadata": {},
     "output_type": "display_data"
    }
   ],
   "source": [
    "sns.boxplot(data = df_clear, x = df_clear['sum_gamerounds'], y = df_clear['version']);"
   ]
  },
  {
   "cell_type": "code",
   "execution_count": 358,
   "metadata": {},
   "outputs": [
    {
     "data": {
      "image/png": "[encoded data removed]",
      "text/plain": [
       "<Figure size 600x300 with 2 Axes>"
      ]
     },
     "metadata": {},
     "output_type": "display_data"
    }
   ],
   "source": [
    "d = {'color': ['g', 'r']}\n",
    "g = sns.FacetGrid(data=df_clear, col ='version', col_wrap=2, hue_kws=d, hue='version')\n",
    "g.map(sns.histplot, 'sum_gamerounds', kde=True)\n",
    "g.set_titles(col_template=\"группа {col_name}\");"
   ]
  },
  {
   "cell_type": "code",
   "execution_count": 359,
   "metadata": {},
   "outputs": [],
   "source": [
    "sample_a = df_clear[df_clear['version'] == 'gate_30']\n",
    "sample_b = df_clear[df_clear['version'] == 'gate_40']\n"
   ]
  },
  {
   "cell_type": "code",
   "execution_count": 360,
   "metadata": {},
   "outputs": [
    {
     "data": {
      "text/plain": [
       "0"
      ]
     },
     "execution_count": 360,
     "metadata": {},
     "output_type": "execute_result"
    }
   ],
   "source": [
    "# Количество пользователей, которые присутствуют в двух группах одновременно\n",
    "len(pd.merge(sample_a, sample_b, on=['userid'], how='inner'))"
   ]
  },
  {
   "cell_type": "code",
   "execution_count": 361,
   "metadata": {},
   "outputs": [
    {
     "data": {
      "text/plain": [
       "count    33564.000000\n",
       "mean        14.196312\n",
       "std         13.406608\n",
       "min          0.000000\n",
       "25%          3.000000\n",
       "50%          9.000000\n",
       "75%         22.000000\n",
       "max         50.000000\n",
       "Name: sum_gamerounds, dtype: float64"
      ]
     },
     "execution_count": 361,
     "metadata": {},
     "output_type": "execute_result"
    }
   ],
   "source": [
    "sample_a['sum_gamerounds'].describe()"
   ]
  },
  {
   "cell_type": "code",
   "execution_count": 362,
   "metadata": {},
   "outputs": [
    {
     "data": {
      "text/plain": [
       "count    33813.000000\n",
       "mean        13.518085\n",
       "std         12.969388\n",
       "min          0.000000\n",
       "25%          3.000000\n",
       "50%          9.000000\n",
       "75%         21.000000\n",
       "max         50.000000\n",
       "Name: sum_gamerounds, dtype: float64"
      ]
     },
     "execution_count": 362,
     "metadata": {},
     "output_type": "execute_result"
    }
   ],
   "source": [
    "sample_b['sum_gamerounds'].describe()"
   ]
  },
  {
   "cell_type": "code",
   "execution_count": 363,
   "metadata": {},
   "outputs": [
    {
     "data": {
      "text/plain": [
       "False"
      ]
     },
     "execution_count": 363,
     "metadata": {},
     "output_type": "execute_result"
    }
   ],
   "source": [
    "#Проверка на дубликаты группы А\n",
    "sample_a['userid'].count()  != len(sample_a['userid'].unique())\n"
   ]
  },
  {
   "cell_type": "code",
   "execution_count": 364,
   "metadata": {},
   "outputs": [
    {
     "data": {
      "text/plain": [
       "False"
      ]
     },
     "execution_count": 364,
     "metadata": {},
     "output_type": "execute_result"
    }
   ],
   "source": [
    "#Проверка на дубликаты группы B\n",
    "sample_a['userid'].count()  != len(sample_a['userid'].unique())"
   ]
  },
  {
   "cell_type": "code",
   "execution_count": 365,
   "metadata": {},
   "outputs": [],
   "source": [
    "# Разобъем группы по ретеншен на 1 и 7 день\n",
    "sample_a_1 = sample_a['retention_1']\n",
    "sample_b_1 = sample_b['retention_1']\n",
    "sample_a_7 = sample_a['retention_7']\n",
    "sample_b_7 = sample_b['retention_7']"
   ]
  },
  {
   "cell_type": "code",
   "execution_count": 366,
   "metadata": {},
   "outputs": [
    {
     "data": {
      "text/plain": [
       "(0.003080818479005192, 0.017014657029570425)"
      ]
     },
     "execution_count": 366,
     "metadata": {},
     "output_type": "execute_result"
    }
   ],
   "source": [
    "# Сравним группы при помощи bootstrap\n",
    "result_1_day = bs.bootstrap_ab(sample_a_1.values, sample_b_1.values, stat_func=bs_stats.mean, compare_func=bs_compare.difference, alpha=0.05, num_iterations=5000)\n",
    "result_1_day.lower_bound, result_1_day.upper_bound"
   ]
  },
  {
   "cell_type": "code",
   "execution_count": 367,
   "metadata": {},
   "outputs": [
    {
     "data": {
      "text/plain": [
       "(0.003518650472930162, 0.010917054726567638)"
      ]
     },
     "execution_count": 367,
     "metadata": {},
     "output_type": "execute_result"
    }
   ],
   "source": [
    "result_7_days = bs.bootstrap_ab(sample_a_7.values, sample_b_7.values, stat_func=bs_stats.mean, compare_func=bs_compare.difference, alpha=0.05, num_iterations=5000)\n",
    "result_7_days.lower_bound, result_7_days.upper_bound"
   ]
  },
  {
   "cell_type": "code",
   "execution_count": 368,
   "metadata": {},
   "outputs": [],
   "source": [
    "# Обнаружены статистически значимые различия между gate_30 и gate_40 как через 1 день, так и через 7 дней"
   ]
  },
  {
   "cell_type": "code",
   "execution_count": 369,
   "metadata": {},
   "outputs": [
    {
     "name": "stdout",
     "output_type": "stream",
     "text": [
      "4.114444387082957 0.04251848923614274\n"
     ]
    }
   ],
   "source": [
    "# Проверим через Хи-квадрат\n",
    "res=chi2_contingency([[sample_a_1.sum(), sample_b_1.sum()],[sample_a_1.count(), sample_b_1.count()]])\n",
    "print(res.statistic, res.pvalue)"
   ]
  },
  {
   "cell_type": "code",
   "execution_count": 370,
   "metadata": {},
   "outputs": [
    {
     "name": "stdout",
     "output_type": "stream",
     "text": [
      "12.966524978553577 0.00031711005816595974\n"
     ]
    }
   ],
   "source": [
    "res=chi2_contingency([[sample_a_7.sum(), sample_b_7.sum()],[sample_a_7.count(), sample_b_7.count()]])\n",
    "print(res.statistic, res.pvalue)"
   ]
  },
  {
   "cell_type": "code",
   "execution_count": 371,
   "metadata": {},
   "outputs": [
    {
     "data": {
      "image/png": "[encoded data removed]",
      "text/plain": [
       "<Figure size 640x480 with 1 Axes>"
      ]
     },
     "metadata": {},
     "output_type": "display_data"
    }
   ],
   "source": [
    "sns.kdeplot(sample_a_1, fill=True)\n",
    "sns.kdeplot(sample_b_1, fill=True)\n",
    "plt.title(\"Distributions of Sample_a_1 and Sample_a_2\")\n",
    "plt.show()"
   ]
  },
  {
   "cell_type": "code",
   "execution_count": 372,
   "metadata": {},
   "outputs": [
    {
     "data": {
      "image/png": "[encoded data removed]",
      "text/plain": [
       "<Figure size 640x480 with 1 Axes>"
      ]
     },
     "metadata": {},
     "output_type": "display_data"
    }
   ],
   "source": [
    "sns.kdeplot(sample_a_7, fill=True)\n",
    "sns.kdeplot(sample_b_7, fill=True)\n",
    "plt.title(\"Distributions of Sample_a_7 and Sample_a_7\")\n",
    "plt.show()"
   ]
  },
  {
   "cell_type": "code",
   "execution_count": 373,
   "metadata": {},
   "outputs": [
    {
     "data": {
      "text/plain": [
       "0.7963757482224629"
      ]
     },
     "execution_count": 373,
     "metadata": {},
     "output_type": "execute_result"
    }
   ],
   "source": [
    "#првоерим мощность тестов\n",
    "\n",
    "alpha = 0.05\n",
    "p_1 = sample_a_1.sum()/sample_a_1.count()\n",
    "p_2 = sample_b_1.sum()/sample_b_1.count()\n",
    "effect_1 = 2 * math.asin(math.sqrt(p_1)) - 2 * math.asin(math.sqrt(p_2))\n",
    "power = smp.zt_ind_solve_power(effect_size=effect_1, nobs1=len(sample_a_1), alpha=alpha, alternative='two-sided')\n",
    "power\n"
   ]
  },
  {
   "cell_type": "code",
   "execution_count": 374,
   "metadata": {},
   "outputs": [
    {
     "data": {
      "text/plain": [
       "0.9703388133030655"
      ]
     },
     "execution_count": 374,
     "metadata": {},
     "output_type": "execute_result"
    }
   ],
   "source": [
    "alpha = 0.05\n",
    "p_1 = sample_a_7.sum()/sample_a_7.count()\n",
    "p_2 = sample_b_7.sum()/sample_b_7.count()\n",
    "effect = 2 * math.asin(math.sqrt(p_1)) - 2 * math.asin(math.sqrt(p_2))\n",
    "power = smp.zt_ind_solve_power(effect_size=effect, nobs1=len(sample_a_7), alpha=alpha, alternative='two-sided')\n",
    "power\n"
   ]
  },
  {
   "cell_type": "code",
   "execution_count": 375,
   "metadata": {},
   "outputs": [
    {
     "name": "stdout",
     "output_type": "stream",
     "text": [
      "Необходимый размер выборки 33875\n"
     ]
    }
   ],
   "source": [
    "#Мощность теста для ретеншн после 1 дня недостаточна, необходимо увеличить размер выборки\n",
    "size_1 = smp.zt_ind_solve_power(effect_size=effect_1, power=0.80, alpha=alpha, alternative='two-sided')\n",
    "print(f'Необходимый размер выборки {round(size_1)}')"
   ]
  }
 ],
 "metadata": {
  "kernelspec": {
   "display_name": "py",
   "language": "python",
   "name": "python3"
  },
  "language_info": {
   "codemirror_mode": {
    "name": "ipython",
    "version": 3
   },
   "file_extension": ".py",
   "mimetype": "text/x-python",
   "name": "python",
   "nbconvert_exporter": "python",
   "pygments_lexer": "ipython3",
   "version": "3.11.6"
  }
 },
 "nbformat": 4,
 "nbformat_minor": 2
}
